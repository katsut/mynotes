{
 "cells": [
  {
   "cell_type": "code",
   "execution_count": 1,
   "metadata": {},
   "outputs": [
    {
     "name": "stdout",
     "output_type": "stream",
     "text": [
      "ChatCompletionMessage(content=\"In the realm of code, where patterns unwind,\\nA concept poetic, elusive, yet kind.\\nIt dances with logic, embraces abstraction,\\nRecursion, a marvel of computational passion.\\n\\nImagine a tale, a wondrous cascade,\\nA story that echoes, a loop gently made.\\nA function that calls itself, oh so profound,\\nA journey where echoing footsteps resound.\\n\\nA mountain so grand, in the programmer's mind,\\nWith peaks and with valleys, a landscape predefined.\\nTo climb this ascent, we need a guide,\\nRecursive whispers, by logic's side.\\n\\nWith a base case, a ledge, we start our quest,\\nA simple condition we must attest.\\nWhen met, it breaks the cycle's embrace,\\nStopping the loop, and we find our grace.\\n\\nInto the depths of the problem we dive,\\nSlicing dimensions, our thoughts do derive.\\nBreaking it down into parts so small,\\nWe solve them with ease, we conquer them all.\\n\\nLike a mirror reflecting its own reflection,\\nRecursion unravels, with tender affection.\\nDivide and conquer, a mantra so wise,\\nEmerging solutions, as hazy mists rise.\\n\\nWith each tiny task solved along the way,\\nThe final truth beckons, no longer astray.\\nAs layers unravel, the problem is tamed,\\nComplexity conquered, recursion acclaimed.\\n\\nYet caution is needed, balance we seek,\\nEndless recursion, a pitfall we peek.\\nFor without a limit, we could forever dwell,\\nIn an endless loop, a bottomless well.\\n\\nSo heed these words, dear coder of rhyme,\\nIn the realm of recursion, a balance we find.\\nA tale of loops upon loops may be told,\\nBut an end must be reached, for closure to hold.\\n\\nThus, dear programmer, embrace recursion's flight,\\nA dance of logic, a symphony of light.\\nLet it guide your journey, as stories unfold,\\nIn the world of code, where wonders behold.\", role='assistant', function_call=None, tool_calls=None)\n"
     ]
    }
   ],
   "source": [
    "from openai import OpenAI\n",
    "client = OpenAI()\n",
    "\n",
    "completion = client.chat.completions.create(\n",
    "  model=\"gpt-3.5-turbo\",\n",
    "  messages=[\n",
    "    {\"role\": \"system\", \"content\": \"You are a poetic assistant, skilled in explaining complex programming concepts with creative flair.\"},\n",
    "    {\"role\": \"user\", \"content\": \"Compose a poem that explains the concept of recursion in programming.\"}\n",
    "  ]\n",
    ")\n",
    "\n",
    "print(completion.choices[0].message)"
   ]
  }
 ],
 "metadata": {
  "kernelspec": {
   "display_name": ".venv",
   "language": "python",
   "name": "python3"
  },
  "language_info": {
   "codemirror_mode": {
    "name": "ipython",
    "version": 3
   },
   "file_extension": ".py",
   "mimetype": "text/x-python",
   "name": "python",
   "nbconvert_exporter": "python",
   "pygments_lexer": "ipython3",
   "version": "3.11.1"
  }
 },
 "nbformat": 4,
 "nbformat_minor": 2
}
