{
 "cells": [
  {
   "cell_type": "code",
   "execution_count": 1,
   "metadata": {},
   "outputs": [
    {
     "name": "stdout",
     "output_type": "stream",
     "text": [
      "ChatCompletionMessage(content=\"In the realm of code, where patterns unwind,\\nA concept poetic, elusive, yet kind.\\nIt dances with logic, embraces abstraction,\\nRecursion, a marvel of computational passion.\\n\\nImagine a tale, a wondrous cascade,\\nA story that echoes, a loop gently made.\\nA function that calls itself, oh so profound,\\nA journey where echoing footsteps resound.\\n\\nA mountain so grand, in the programmer's mind,\\nWith peaks and with valleys, a landscape predefined.\\nTo climb this ascent, we need a guide,\\nRecursive whispers, by logic's side.\\n\\nWith a base case, a ledge, we start our quest,\\nA simple condition we must attest.\\nWhen met, it breaks the cycle's embrace,\\nStopping the loop, and we find our grace.\\n\\nInto the depths of the problem we dive,\\nSlicing dimensions, our thoughts do derive.\\nBreaking it down into parts so small,\\nWe solve them with ease, we conquer them all.\\n\\nLike a mirror reflecting its own reflection,\\nRecursion unravels, with tender affection.\\nDivide and conquer, a mantra so wise,\\nEmerging solutions, as hazy mists rise.\\n\\nWith each tiny task solved along the way,\\nThe final truth beckons, no longer astray.\\nAs layers unravel, the problem is tamed,\\nComplexity conquered, recursion acclaimed.\\n\\nYet caution is needed, balance we seek,\\nEndless recursion, a pitfall we peek.\\nFor without a limit, we could forever dwell,\\nIn an endless loop, a bottomless well.\\n\\nSo heed these words, dear coder of rhyme,\\nIn the realm of recursion, a balance we find.\\nA tale of loops upon loops may be told,\\nBut an end must be reached, for closure to hold.\\n\\nThus, dear programmer, embrace recursion's flight,\\nA dance of logic, a symphony of light.\\nLet it guide your journey, as stories unfold,\\nIn the world of code, where wonders behold.\", role='assistant', function_call=None, tool_calls=None)\n"
     ]
    }
   ],
   "source": [
    "from openai import OpenAI\n",
    "client = OpenAI()\n",
    "\n",
    "completion = client.chat.completions.create(\n",
    "  model=\"gpt-3.5-turbo\",\n",
    "  messages=[\n",
    "    {\"role\": \"system\", \"content\": \"You are a poetic assistant, skilled in explaining complex programming concepts with creative flair.\"},\n",
    "    {\"role\": \"user\", \"content\": \"Compose a poem that explains the concept of recursion in programming.\"}\n",
    "  ]\n",
    ")\n",
    "\n",
    "print(completion.choices[0].message)"
   ]
  },
  {
   "cell_type": "code",
   "execution_count": 3,
   "metadata": {},
   "outputs": [
    {
     "name": "stdout",
     "output_type": "stream",
     "text": [
      "ChatCompletionMessage(content='以下は、AWSとリアルタイム配信サービスを使用して、サーバーに送られてくるテキストデータをAmazon Pollyで音声データに変換し、オーディオとしてリアルタイムに配信するアーキテクチャの提案です。\\n\\n1. ユーザーがテキストデータをサーバーに送信する際に、データをキューに追加します。AWS Simple Queue Service（SQS）やAmazon Kinesis Data Streamsなどのサービスを使用することができます。\\n\\n2. サーバーはキューからメッセージを受信し、Amazon Pollyにテキストデータを送信して音声データに変換します。音声データはS3バケットに保存されます。\\n\\n3. 変換された音声データは、リアルタイムのオーディオとして配信するために、AWS Elemental MediaLiveを使用してRTMPストリームにエンコードされます。エンコードされたストリームは、AWS Elemental MediaPackageを使用してHLSまたはDASH形式で配信されます。\\n\\n4. 配信されたオーディオは、リアルタイムでAmazon CloudFrontを使用してグローバルにキャッシュされ、ユーザーが低遅延でアクセスできるようになります。\\n\\n5. エンドユーザーは、スマートフォン、タブレット、パソコンなどのデバイスを使用して、オーディオを視聴することができます。デバイスは、RTMPストリームに対応しているプレーヤーであるか、HLSまたはDASHをサポートしているブラウザである必要があります。\\n\\nこのアーキテクチャを使用することで、Amazon Pollyを介してテキストデータをオーディオに変換し、リアルタイムで大量のユーザーに配信することができます。また、AWSのサービスを使用することで、スケーラビリティと信頼性を確保することができます。', role='assistant', function_call=None, tool_calls=None)\n"
     ]
    }
   ],
   "source": [
    "from openai import OpenAI\n",
    "client = OpenAI()\n",
    "\n",
    "completion = client.chat.completions.create(\n",
    "  model=\"gpt-3.5-turbo\",\n",
    "  messages=[\n",
    "    {\"role\": \"system\", \"content\": \"あなたはAWSとリアルタイム配信サービスの専門家です。\"},\n",
    "    {\"role\": \"user\", \"content\": \"サーバーに送られてくるテキストデータをAmazon Pollyで音声データに変換して不特定多数の端末にリアルタイムなオーディオとして配信するアーキテクチャを提案してください\"}\n",
    "  ]\n",
    ")\n",
    "\n",
    "print(completion.choices[0].message.content)"
   ]
  },
  {
   "cell_type": "code",
   "execution_count": 2,
   "metadata": {},
   "outputs": [
    {
     "name": "stdout",
     "output_type": "stream",
     "text": [
      "ChatCompletionMessage(content='以下は、テキストデータをAmazon Pollyで変換し、リアルタイムなオーディオとして配信するアーキテクチャの提案です。\n",
      "\n",
      "1. テキストデータを受け取るAPIエンドポイントを作成します。これは、テキストデータを受け取り、Amazon Pollyに送信する役割を持ちます。\n",
      "\n",
      "2. リアルタイムなオーディオ配信を行うために、リアルタイム通信プロトコル（例：WebSockets）を使用して、クライアントとサーバーの間で双方向通信を確立します。\n",
      "\n",
      "3. クライアント（例：Webブラウザ）は、テキストデータをサーバーに送信し、Polly APIエンドポイントにリクエストを行います。\n",
      "\n",
      "4. サーバーは、Polly APIを使用してテキストデータを音声データに変換します。変換された音声データは、クライアントにリアルタイムでストリームされます。\n",
      "\n",
      "5. クライアントは、音声データを受け取ると、再生するためのHTML5のaudio要素を作成します。音声データが受信されるたびに、audio要素が再生されます。\n",
      "\n",
      "6. 必要に応じて、オーディオの再生制御（再生、一時停止、停止など）を行うためのボタンやコントロールをクライアントに追加します。\n",
      "\n",
      "このアーキテクチャを実装するためには、以下のAWSサービスを使用することができます：\n",
      "\n",
      "- Amazon API Gateway：APIエンドポイントを作成し、テキストデータを受け取るためのエンドポイントを作成します。\n",
      "- AWS Lambda：API Gatewayからのリクエストを処理し、Polly APIに送信するためのバックエンドコードを実行します。\n",
      "- Amazon Polly：テキストデータを音声データに変換するためのサービスです。\n",
      "- Amazon CloudFront：リアルタイムなオーディオを配信するためのコンテンツデリバリネットワークです。\n",
      "\n",
      "これにより、クライアントはテキストをサーバーに送信し、リアルタイムでストリームされるオーディオデータを受信して再生することができます。\n"
     ]
    }
   ],
   "source": [
    "print(\"ChatCompletionMessage(content='以下は、テキストデータをAmazon Pollyで変換し、リアルタイムなオーディオとして配信するアーキテクチャの提案です。\\n\\n1. テキストデータを受け取るAPIエンドポイントを作成します。これは、テキストデータを受け取り、Amazon Pollyに送信する役割を持ちます。\\n\\n2. リアルタイムなオーディオ配信を行うために、リアルタイム通信プロトコル（例：WebSockets）を使用して、クライアントとサーバーの間で双方向通信を確立します。\\n\\n3. クライアント（例：Webブラウザ）は、テキストデータをサーバーに送信し、Polly APIエンドポイントにリクエストを行います。\\n\\n4. サーバーは、Polly APIを使用してテキストデータを音声データに変換します。変換された音声データは、クライアントにリアルタイムでストリームされます。\\n\\n5. クライアントは、音声データを受け取ると、再生するためのHTML5のaudio要素を作成します。音声データが受信されるたびに、audio要素が再生されます。\\n\\n6. 必要に応じて、オーディオの再生制御（再生、一時停止、停止など）を行うためのボタンやコントロールをクライアントに追加します。\\n\\nこのアーキテクチャを実装するためには、以下のAWSサービスを使用することができます：\\n\\n- Amazon API Gateway：APIエンドポイントを作成し、テキストデータを受け取るためのエンドポイントを作成します。\\n- AWS Lambda：API Gatewayからのリクエストを処理し、Polly APIに送信するためのバックエンドコードを実行します。\\n- Amazon Polly：テキストデータを音声データに変換するためのサービスです。\\n- Amazon CloudFront：リアルタイムなオーディオを配信するためのコンテンツデリバリネットワークです。\\n\\nこれにより、クライアントはテキストをサーバーに送信し、リアルタイムでストリームされるオーディオデータを受信して再生することができます。\")"
   ]
  },
  {
   "cell_type": "code",
   "execution_count": null,
   "metadata": {},
   "outputs": [],
   "source": []
  }
 ],
 "metadata": {
  "kernelspec": {
   "display_name": ".venv",
   "language": "python",
   "name": "python3"
  },
  "language_info": {
   "codemirror_mode": {
    "name": "ipython",
    "version": 3
   },
   "file_extension": ".py",
   "mimetype": "text/x-python",
   "name": "python",
   "nbconvert_exporter": "python",
   "pygments_lexer": "ipython3",
   "version": "3.11.1"
  }
 },
 "nbformat": 4,
 "nbformat_minor": 2
}
